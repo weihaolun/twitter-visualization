{
 "cells": [
  {
   "cell_type": "code",
   "execution_count": 2,
   "id": "be0072f5",
   "metadata": {},
   "outputs": [],
   "source": [
    "import pandas as pd\n",
    "from datetime import datetime\n",
    "import matplotlib\n",
    "import json"
   ]
  },
  {
   "cell_type": "code",
   "execution_count": 3,
   "id": "0aa8ed0b",
   "metadata": {},
   "outputs": [
    {
     "data": {
      "text/html": [
       "<div>\n",
       "<style scoped>\n",
       "    .dataframe tbody tr th:only-of-type {\n",
       "        vertical-align: middle;\n",
       "    }\n",
       "\n",
       "    .dataframe tbody tr th {\n",
       "        vertical-align: top;\n",
       "    }\n",
       "\n",
       "    .dataframe thead th {\n",
       "        text-align: right;\n",
       "    }\n",
       "</style>\n",
       "<table border=\"1\" class=\"dataframe\">\n",
       "  <thead>\n",
       "    <tr style=\"text-align: right;\">\n",
       "      <th></th>\n",
       "      <th>created_at</th>\n",
       "      <th>created_date</th>\n",
       "      <th>weekday</th>\n",
       "      <th>hours</th>\n",
       "      <th>tweet</th>\n",
       "      <th>text</th>\n",
       "      <th>score</th>\n",
       "    </tr>\n",
       "  </thead>\n",
       "  <tbody>\n",
       "    <tr>\n",
       "      <th>0</th>\n",
       "      <td>2021-11-01 00:59:56+00:00</td>\n",
       "      <td>2021-11-01</td>\n",
       "      <td>Monday</td>\n",
       "      <td>0</td>\n",
       "      <td>@lj3252 @Teslarati @ResidentSponge Cars since ...</td>\n",
       "      <td>[car, hardware, needed, self, driving, elon, lie]</td>\n",
       "      <td>0</td>\n",
       "    </tr>\n",
       "    <tr>\n",
       "      <th>1</th>\n",
       "      <td>2021-11-01 00:59:53+00:00</td>\n",
       "      <td>2021-11-01</td>\n",
       "      <td>Monday</td>\n",
       "      <td>0</td>\n",
       "      <td>@elonmusk @garycruz @truth_tesla @zshahan3 @ga...</td>\n",
       "      <td>[hi, trying, startup, innovating, app, share, ...</td>\n",
       "      <td>1</td>\n",
       "    </tr>\n",
       "    <tr>\n",
       "      <th>2</th>\n",
       "      <td>2021-11-01 00:59:46+00:00</td>\n",
       "      <td>2021-11-01</td>\n",
       "      <td>Monday</td>\n",
       "      <td>0</td>\n",
       "      <td>@AgnesOfTheDogs @Tesla @telsa Indeed! I have n...</td>\n",
       "      <td>[real, interest, driving, ginormous, overheati...</td>\n",
       "      <td>1</td>\n",
       "    </tr>\n",
       "    <tr>\n",
       "      <th>3</th>\n",
       "      <td>2021-11-01 00:59:41+00:00</td>\n",
       "      <td>2021-11-01</td>\n",
       "      <td>Monday</td>\n",
       "      <td>0</td>\n",
       "      <td>@elonmusk @garycruz @truth_tesla @zshahan3 @ga...</td>\n",
       "      <td>[hi, trying, startup, innovating, app, share, ...</td>\n",
       "      <td>1</td>\n",
       "    </tr>\n",
       "    <tr>\n",
       "      <th>4</th>\n",
       "      <td>2021-11-01 00:59:37+00:00</td>\n",
       "      <td>2021-11-01</td>\n",
       "      <td>Monday</td>\n",
       "      <td>0</td>\n",
       "      <td>Elon Musk says he’ll sell Tesla stock if UN of...</td>\n",
       "      <td>[elon, musk, say, hell, sell, tesla, stock, un...</td>\n",
       "      <td>0</td>\n",
       "    </tr>\n",
       "    <tr>\n",
       "      <th>...</th>\n",
       "      <td>...</td>\n",
       "      <td>...</td>\n",
       "      <td>...</td>\n",
       "      <td>...</td>\n",
       "      <td>...</td>\n",
       "      <td>...</td>\n",
       "      <td>...</td>\n",
       "    </tr>\n",
       "    <tr>\n",
       "      <th>43807</th>\n",
       "      <td>2021-11-08 23:42:10+00:00</td>\n",
       "      <td>2021-11-08</td>\n",
       "      <td>Monday</td>\n",
       "      <td>23</td>\n",
       "      <td>@JakubKudlacz @dezmondOliver @Tesla @elonmusk ...</td>\n",
       "      <td>[thank, cooperation, ..., good, night]</td>\n",
       "      <td>1</td>\n",
       "    </tr>\n",
       "    <tr>\n",
       "      <th>43808</th>\n",
       "      <td>2021-11-08 23:42:01+00:00</td>\n",
       "      <td>2021-11-08</td>\n",
       "      <td>Monday</td>\n",
       "      <td>23</td>\n",
       "      <td>#PepsiCo claims that its first-ever #Tesla Sem...</td>\n",
       "      <td>[pepsico, claim, first-ever, tesla, semi, truc...</td>\n",
       "      <td>1</td>\n",
       "    </tr>\n",
       "    <tr>\n",
       "      <th>43809</th>\n",
       "      <td>2021-11-08 23:42:01+00:00</td>\n",
       "      <td>2021-11-08</td>\n",
       "      <td>Monday</td>\n",
       "      <td>23</td>\n",
       "      <td>Tesla shares slide after Elon Musk’s Twitter p...</td>\n",
       "      <td>[tesla, share, slide, elon, musk, twitter, pol...</td>\n",
       "      <td>1</td>\n",
       "    </tr>\n",
       "    <tr>\n",
       "      <th>43810</th>\n",
       "      <td>2021-11-08 23:41:56+00:00</td>\n",
       "      <td>2021-11-08</td>\n",
       "      <td>Monday</td>\n",
       "      <td>23</td>\n",
       "      <td>Why Tesla's share price has fallen after Elon ...</td>\n",
       "      <td>[tesla's, share, price, fallen, elon, musk's, ...</td>\n",
       "      <td>0</td>\n",
       "    </tr>\n",
       "    <tr>\n",
       "      <th>43811</th>\n",
       "      <td>2021-11-08 23:41:50+00:00</td>\n",
       "      <td>2021-11-08</td>\n",
       "      <td>Monday</td>\n",
       "      <td>23</td>\n",
       "      <td>@Bitbro10 LFG!!!\\nFill you bags while you can!...</td>\n",
       "      <td>[lfg, fill, bag, start, moon, ability, buy, te...</td>\n",
       "      <td>1</td>\n",
       "    </tr>\n",
       "  </tbody>\n",
       "</table>\n",
       "<p>43812 rows × 7 columns</p>\n",
       "</div>"
      ],
      "text/plain": [
       "                     created_at created_date weekday  hours  \\\n",
       "0     2021-11-01 00:59:56+00:00   2021-11-01  Monday      0   \n",
       "1     2021-11-01 00:59:53+00:00   2021-11-01  Monday      0   \n",
       "2     2021-11-01 00:59:46+00:00   2021-11-01  Monday      0   \n",
       "3     2021-11-01 00:59:41+00:00   2021-11-01  Monday      0   \n",
       "4     2021-11-01 00:59:37+00:00   2021-11-01  Monday      0   \n",
       "...                         ...          ...     ...    ...   \n",
       "43807 2021-11-08 23:42:10+00:00   2021-11-08  Monday     23   \n",
       "43808 2021-11-08 23:42:01+00:00   2021-11-08  Monday     23   \n",
       "43809 2021-11-08 23:42:01+00:00   2021-11-08  Monday     23   \n",
       "43810 2021-11-08 23:41:56+00:00   2021-11-08  Monday     23   \n",
       "43811 2021-11-08 23:41:50+00:00   2021-11-08  Monday     23   \n",
       "\n",
       "                                                   tweet  \\\n",
       "0      @lj3252 @Teslarati @ResidentSponge Cars since ...   \n",
       "1      @elonmusk @garycruz @truth_tesla @zshahan3 @ga...   \n",
       "2      @AgnesOfTheDogs @Tesla @telsa Indeed! I have n...   \n",
       "3      @elonmusk @garycruz @truth_tesla @zshahan3 @ga...   \n",
       "4      Elon Musk says he’ll sell Tesla stock if UN of...   \n",
       "...                                                  ...   \n",
       "43807  @JakubKudlacz @dezmondOliver @Tesla @elonmusk ...   \n",
       "43808  #PepsiCo claims that its first-ever #Tesla Sem...   \n",
       "43809  Tesla shares slide after Elon Musk’s Twitter p...   \n",
       "43810  Why Tesla's share price has fallen after Elon ...   \n",
       "43811  @Bitbro10 LFG!!!\\nFill you bags while you can!...   \n",
       "\n",
       "                                                    text  score  \n",
       "0      [car, hardware, needed, self, driving, elon, lie]      0  \n",
       "1      [hi, trying, startup, innovating, app, share, ...      1  \n",
       "2      [real, interest, driving, ginormous, overheati...      1  \n",
       "3      [hi, trying, startup, innovating, app, share, ...      1  \n",
       "4      [elon, musk, say, hell, sell, tesla, stock, un...      0  \n",
       "...                                                  ...    ...  \n",
       "43807             [thank, cooperation, ..., good, night]      1  \n",
       "43808  [pepsico, claim, first-ever, tesla, semi, truc...      1  \n",
       "43809  [tesla, share, slide, elon, musk, twitter, pol...      1  \n",
       "43810  [tesla's, share, price, fallen, elon, musk's, ...      0  \n",
       "43811  [lfg, fill, bag, start, moon, ability, buy, te...      1  \n",
       "\n",
       "[43812 rows x 7 columns]"
      ]
     },
     "execution_count": 3,
     "metadata": {},
     "output_type": "execute_result"
    }
   ],
   "source": [
    "# Must keep header none to drop breaklines\n",
    "scored_tweets = pd.read_json(\"datasources/cleaned_scored_tweets.json\")\n",
    "scored_tweets"
   ]
  },
  {
   "cell_type": "code",
   "execution_count": 4,
   "id": "c9bfe684",
   "metadata": {
    "scrolled": false
   },
   "outputs": [
    {
     "data": {
      "text/plain": [
       "created_at      datetime64[ns, UTC]\n",
       "created_date                 object\n",
       "weekday                      object\n",
       "hours                         int64\n",
       "tweet                        object\n",
       "text                         object\n",
       "score                         int64\n",
       "dtype: object"
      ]
     },
     "execution_count": 4,
     "metadata": {},
     "output_type": "execute_result"
    }
   ],
   "source": [
    "scored_tweets.dtypes"
   ]
  },
  {
   "cell_type": "code",
   "execution_count": 5,
   "id": "6722bdfa",
   "metadata": {},
   "outputs": [],
   "source": [
    "# # Change column names and reorder columns\n",
    "# scored_tweets.columns = ['created_date','weekday','hours','id','tweet', 'score']\n",
    "# scored_tweets"
   ]
  },
  {
   "cell_type": "code",
   "execution_count": 7,
   "id": "120f0917",
   "metadata": {},
   "outputs": [
    {
     "ename": "TypeError",
     "evalue": "sample() got an unexpected keyword argument 'sort'",
     "output_type": "error",
     "traceback": [
      "\u001b[0;31m---------------------------------------------------------------------------\u001b[0m",
      "\u001b[0;31mTypeError\u001b[0m                                 Traceback (most recent call last)",
      "\u001b[0;32m/var/folders/c8/9_zl44v564v5r52g5sszjsk00000gn/T/ipykernel_80731/1657313051.py\u001b[0m in \u001b[0;36m<module>\u001b[0;34m\u001b[0m\n\u001b[0;32m----> 1\u001b[0;31m \u001b[0mhourly_sample\u001b[0m \u001b[0;34m=\u001b[0m \u001b[0mscored_tweets\u001b[0m\u001b[0;34m.\u001b[0m\u001b[0mgroupby\u001b[0m\u001b[0;34m(\u001b[0m\u001b[0;34m[\u001b[0m\u001b[0;34m\"weekday\"\u001b[0m\u001b[0;34m,\u001b[0m\u001b[0;34m\"hours\"\u001b[0m\u001b[0;34m]\u001b[0m\u001b[0;34m)\u001b[0m\u001b[0;34m.\u001b[0m\u001b[0msample\u001b[0m\u001b[0;34m(\u001b[0m\u001b[0mn\u001b[0m\u001b[0;34m=\u001b[0m\u001b[0;36m200\u001b[0m\u001b[0;34m,\u001b[0m \u001b[0mrandom_state\u001b[0m\u001b[0;34m=\u001b[0m\u001b[0;36m1\u001b[0m\u001b[0;34m,\u001b[0m\u001b[0msort\u001b[0m\u001b[0;34m=\u001b[0m\u001b[0;32mFalse\u001b[0m\u001b[0;34m)\u001b[0m\u001b[0;34m\u001b[0m\u001b[0;34m\u001b[0m\u001b[0m\n\u001b[0m\u001b[1;32m      2\u001b[0m \u001b[0mhourly_sample\u001b[0m\u001b[0;34m\u001b[0m\u001b[0;34m\u001b[0m\u001b[0m\n",
      "\u001b[0;31mTypeError\u001b[0m: sample() got an unexpected keyword argument 'sort'"
     ]
    }
   ],
   "source": [
    "hourly_sample = scored_tweets.groupby([\"weekday\",\"hours\"], sort=False).sample(n=200, random_state=1)\n",
    "hourly_sample"
   ]
  },
  {
   "cell_type": "code",
   "execution_count": 7,
   "id": "2cbd5b16",
   "metadata": {},
   "outputs": [],
   "source": [
    "hourly_sample.to_json(\"datasources/first_week_data.json\", orient=\"records\")"
   ]
  },
  {
   "cell_type": "code",
   "execution_count": null,
   "id": "8830895f",
   "metadata": {},
   "outputs": [],
   "source": []
  }
 ],
 "metadata": {
  "kernelspec": {
   "display_name": "mlenv",
   "language": "python",
   "name": "mlenv"
  },
  "language_info": {
   "codemirror_mode": {
    "name": "ipython",
    "version": 3
   },
   "file_extension": ".py",
   "mimetype": "text/x-python",
   "name": "python",
   "nbconvert_exporter": "python",
   "pygments_lexer": "ipython3",
   "version": "3.8.12"
  }
 },
 "nbformat": 4,
 "nbformat_minor": 5
}
